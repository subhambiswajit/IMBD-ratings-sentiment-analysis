{
 "cells": [
  {
   "cell_type": "markdown",
   "id": "5e77b9ee-d2c2-4fa2-90a0-8285c7f447ac",
   "metadata": {
    "id": "5e77b9ee-d2c2-4fa2-90a0-8285c7f447ac"
   },
   "source": [
    "# IMDB Ratings Sentimental Analysis"
   ]
  },
  {
   "cell_type": "code",
   "execution_count": 4,
   "id": "fa6ceee4-35a3-42a5-88a0-88654a369cbd",
   "metadata": {
    "id": "fa6ceee4-35a3-42a5-88a0-88654a369cbd"
   },
   "outputs": [],
   "source": [
    "import os \n",
    "import numpy as np\n",
    "import re\n",
    "import string \n",
    "import shutil\n",
    "import tensorflow as tf\n",
    "from tensorflow.keras.layers import Dense, Embedding, GlobalAveragePooling1D, Conv2D, AveragePooling1D\n",
    "from tensorflow.keras.preprocessing import text_dataset_from_directory\n",
    "from tensorflow.keras.layers.experimental.preprocessing import TextVectorization\n",
    "from tensorflow.keras import Sequential\n",
    "from tensorflow.keras.losses import BinaryCrossentropy\n",
    "from tensorflow.keras.layers import LSTM, GlobalMaxPool1D, Bidirectional\n",
    "from keras.layers import Flatten, Conv1D\n",
    "from keras.layers.convolutional import MaxPooling1D\n",
    "from tensorflow.keras.layers import Dropout"
   ]
  },
  {
   "cell_type": "markdown",
   "id": "66ce854c-5078-429c-8c8b-cbadf044389e",
   "metadata": {
    "id": "66ce854c-5078-429c-8c8b-cbadf044389e"
   },
   "source": [
    "## Utilities/Definitions used for simplification of tasks"
   ]
  },
  {
   "cell_type": "code",
   "execution_count": 7,
   "id": "a35d128f-d21e-4725-8c18-c7866d89dfd8",
   "metadata": {
    "id": "a35d128f-d21e-4725-8c18-c7866d89dfd8"
   },
   "outputs": [],
   "source": [
    "def getIMDBData():\n",
    "    url = 'https://ai.stanford.edu/~amaas/data/sentiment/aclImdb_v1.tar.gz'\n",
    "    dataset = tf.keras.utils.get_file(\"aclImdb_v1.tar.gz\", \n",
    "                                      url, \n",
    "                                      untar=True, \n",
    "                                      cache_dir='.',\n",
    "                                      cache_subdir='')\n",
    "    return os.path.join(os.path.dirname(dataset), 'aclImdb')\n",
    "\n",
    "def removeRedundantDirectory(datasetDir):\n",
    "    trainDir = os.path.join(datasetDir, 'train')\n",
    "    unsupDir = os.path.join(trainDir, 'unsup')\n",
    "    shutil.rmtree(unsupDir)\n",
    "\n",
    "def makeTextsLowerCase(inputData):\n",
    "    return tf.strings.lower(inputData)\n",
    "\n",
    "def removeHTMLTags(inputData):\n",
    "    return tf.strings.regex_replace(inputData, '<br />', \n",
    "                                    ' ')\n",
    "\n",
    "def removePunctuations(inputData):\n",
    "    return tf.strings.regex_replace(inputData,\n",
    "                                  '[%s]' % re.escape(string.punctuation), \n",
    "                                  '')\n",
    "\n",
    "def getWordPrepocessingPredicates(inputData):\n",
    "    processedData = makeTextsLowerCase(inputData)\n",
    "    processedData = removePunctuations(processedData)\n",
    "    processedData = removeHTMLTags(processedData)\n",
    "    return processedData\n",
    "    "
   ]
  },
  {
   "cell_type": "markdown",
   "id": "fb6cf2a1-6962-43d6-b8d1-4846b86d2143",
   "metadata": {
    "id": "fb6cf2a1-6962-43d6-b8d1-4846b86d2143"
   },
   "source": [
    "## Fetch the data"
   ]
  },
  {
   "cell_type": "code",
   "execution_count": 3,
   "id": "643610fc-caff-4e23-b342-e938a3e8b265",
   "metadata": {
    "colab": {
     "base_uri": "https://localhost:8080/"
    },
    "id": "643610fc-caff-4e23-b342-e938a3e8b265",
    "outputId": "c1da05ea-b955-4e87-d4f6-2846df07d773"
   },
   "outputs": [
    {
     "name": "stdout",
     "output_type": "stream",
     "text": [
      "Downloading data from https://ai.stanford.edu/~amaas/data/sentiment/aclImdb_v1.tar.gz\n",
      "84131840/84125825 [==============================] - 2s 0us/step\n"
     ]
    }
   ],
   "source": [
    "datasetDir = getIMDBData() ## Dataset won't be downloaded if already present\n",
    "removeRedundantDirectory(datasetDir)"
   ]
  },
  {
   "cell_type": "markdown",
   "id": "894dde61-11d4-4acc-8947-1988ee3cec63",
   "metadata": {
    "id": "894dde61-11d4-4acc-8947-1988ee3cec63"
   },
   "source": [
    "## Segregating Training and Validation set"
   ]
  },
  {
   "cell_type": "code",
   "execution_count": 8,
   "id": "f235c068-833a-4d49-bb86-1590a8a336ca",
   "metadata": {
    "colab": {
     "base_uri": "https://localhost:8080/"
    },
    "id": "f235c068-833a-4d49-bb86-1590a8a336ca",
    "outputId": "50c33111-b993-4e38-ed91-e35465a2d940"
   },
   "outputs": [
    {
     "name": "stdout",
     "output_type": "stream",
     "text": [
      "Found 25000 files belonging to 2 classes.\n",
      "Found 25000 files belonging to 2 classes.\n"
     ]
    }
   ],
   "source": [
    "trainSet = text_dataset_from_directory(\n",
    "    'aclImdb/train', batch_size=300, \n",
    "    seed=100, label_mode='int')\n",
    "testSet = text_dataset_from_directory(\n",
    "    'aclImdb/test', label_mode='int')"
   ]
  },
  {
   "cell_type": "code",
   "execution_count": 9,
   "id": "WZZ-d4Hxkbx9",
   "metadata": {
    "id": "WZZ-d4Hxkbx9"
   },
   "outputs": [],
   "source": [
    "vocabularies = 10000\n",
    "lengthCapOfWords = 250\n",
    "wordVectorizePredicates = TextVectorization(\n",
    "    standardize=getWordPrepocessingPredicates,\n",
    "    max_tokens=vocabularies,\n",
    "    output_mode='int',\n",
    "    output_sequence_length=lengthCapOfWords)\n",
    "\n",
    "textSet = trainSet.map(lambda texts, labels: texts)\n",
    "wordVectorizePredicates.adapt(textSet)\n",
    "embeddingDimension=500"
   ]
  },
  {
   "cell_type": "markdown",
   "id": "SeTwVfE-nLfo",
   "metadata": {
    "id": "SeTwVfE-nLfo"
   },
   "source": [
    "## Designing the model"
   ]
  },
  {
   "cell_type": "markdown",
   "id": "mB4kp8Z3Fmaq",
   "metadata": {
    "id": "mB4kp8Z3Fmaq"
   },
   "source": [
    "### Case Study 1: All Dense layer architecture"
   ]
  },
  {
   "cell_type": "code",
   "execution_count": 10,
   "id": "97E8iCrOFTW1",
   "metadata": {
    "id": "97E8iCrOFTW1"
   },
   "outputs": [],
   "source": [
    "SentimentModel = Sequential([\n",
    "  wordVectorizePredicates,\n",
    "  Embedding(vocabularies, embeddingDimension, name=\"embedding\"),\n",
    "  Dense(30, activation='relu'),\n",
    "  Dropout(0.2),\n",
    "  Flatten(),\n",
    "  Dense(1, activation='sigmoid')\n",
    "])"
   ]
  },
  {
   "cell_type": "code",
   "execution_count": 11,
   "id": "tmXap5bAFi6l",
   "metadata": {
    "id": "tmXap5bAFi6l"
   },
   "outputs": [],
   "source": [
    "SentimentModel.compile(optimizer='adam',\n",
    "              loss=BinaryCrossentropy(from_logits=False),\n",
    "              metrics=['accuracy'])"
   ]
  },
  {
   "cell_type": "code",
   "execution_count": 15,
   "id": "otZpI8tTKLbY",
   "metadata": {
    "colab": {
     "base_uri": "https://localhost:8080/"
    },
    "id": "otZpI8tTKLbY",
    "outputId": "8f626a21-9228-40b9-fee3-abad5baf405b"
   },
   "outputs": [
    {
     "name": "stdout",
     "output_type": "stream",
     "text": [
      "Model: \"sequential\"\n",
      "_________________________________________________________________\n",
      "Layer (type)                 Output Shape              Param #   \n",
      "=================================================================\n",
      "text_vectorization (TextVect (None, 250)               0         \n",
      "_________________________________________________________________\n",
      "embedding (Embedding)        (None, 250, 500)          5000000   \n",
      "_________________________________________________________________\n",
      "dense (Dense)                (None, 250, 30)           15030     \n",
      "_________________________________________________________________\n",
      "dropout (Dropout)            (None, 250, 30)           0         \n",
      "_________________________________________________________________\n",
      "module_wrapper (ModuleWrappe (None, 7500)              0         \n",
      "_________________________________________________________________\n",
      "dense_1 (Dense)              (None, 1)                 7501      \n",
      "=================================================================\n",
      "Total params: 5,022,531\n",
      "Trainable params: 5,022,531\n",
      "Non-trainable params: 0\n",
      "_________________________________________________________________\n"
     ]
    }
   ],
   "source": [
    "SentimentModel.summary()"
   ]
  },
  {
   "cell_type": "code",
   "execution_count": 12,
   "id": "qqrzIeHgFuFM",
   "metadata": {
    "colab": {
     "base_uri": "https://localhost:8080/"
    },
    "id": "qqrzIeHgFuFM",
    "outputId": "b81b035b-57a3-4f97-878e-95db82a8986a"
   },
   "outputs": [
    {
     "name": "stdout",
     "output_type": "stream",
     "text": [
      "Epoch 1/2\n",
      "84/84 [==============================] - 63s 733ms/step - loss: 0.6145 - accuracy: 0.6473 - val_loss: 0.3919 - val_accuracy: 0.8327\n",
      "Epoch 2/2\n",
      "84/84 [==============================] - 56s 656ms/step - loss: 0.2833 - accuracy: 0.8853 - val_loss: 0.3199 - val_accuracy: 0.8664\n"
     ]
    },
    {
     "data": {
      "text/plain": [
       "<tensorflow.python.keras.callbacks.History at 0x7f84832f2150>"
      ]
     },
     "execution_count": 12,
     "metadata": {
      "tags": []
     },
     "output_type": "execute_result"
    }
   ],
   "source": [
    "SentimentModel.fit(\n",
    "    trainSet,\n",
    "    validation_data=testSet,\n",
    "    epochs=2)"
   ]
  },
  {
   "cell_type": "code",
   "execution_count": 16,
   "id": "k1UAbtx5GIVB",
   "metadata": {
    "colab": {
     "base_uri": "https://localhost:8080/"
    },
    "id": "k1UAbtx5GIVB",
    "outputId": "19e1a43d-140a-4c5e-a7c0-0d70321a7ecd"
   },
   "outputs": [
    {
     "name": "stdout",
     "output_type": "stream",
     "text": [
      "Accuracy on Validation set: 86.64%\n"
     ]
    }
   ],
   "source": [
    "scores = SentimentModel.evaluate(testSet, verbose=0)\n",
    "print(\"Accuracy on Validation set: %.2f%%\" % (scores[1]*100))"
   ]
  },
  {
   "cell_type": "markdown",
   "id": "J3ImiwW1Fvct",
   "metadata": {
    "id": "J3ImiwW1Fvct"
   },
   "source": [
    "### Case Study 2: Convolutional-Dense layer architecture"
   ]
  },
  {
   "cell_type": "code",
   "execution_count": 30,
   "id": "wRFkg9G2nMxa",
   "metadata": {
    "id": "wRFkg9G2nMxa"
   },
   "outputs": [],
   "source": [
    "SentimentModel = Sequential([\n",
    "  wordVectorizePredicates,\n",
    "  Embedding(vocabularies, embeddingDimension, name=\"embedding\"),\n",
    "  Conv1D(filters=40, kernel_size=3, padding='same', activation='relu'),\n",
    "  Dropout(0.2),\n",
    "  Flatten(),\n",
    "  Dense(20, activation='relu'),\n",
    "  Dense(1, activation='sigmoid')\n",
    "])"
   ]
  },
  {
   "cell_type": "code",
   "execution_count": 31,
   "id": "XD_2YW7wuFLx",
   "metadata": {
    "id": "XD_2YW7wuFLx"
   },
   "outputs": [],
   "source": [
    "SentimentModel.compile(optimizer='adam',\n",
    "              loss=BinaryCrossentropy(from_logits=False),\n",
    "              metrics=['accuracy'])"
   ]
  },
  {
   "cell_type": "code",
   "execution_count": 34,
   "id": "nryo6QBjU1ce",
   "metadata": {
    "colab": {
     "base_uri": "https://localhost:8080/"
    },
    "id": "nryo6QBjU1ce",
    "outputId": "58837fae-369d-44c7-82b3-14880397a665"
   },
   "outputs": [
    {
     "name": "stdout",
     "output_type": "stream",
     "text": [
      "Model: \"sequential_8\"\n",
      "_________________________________________________________________\n",
      "Layer (type)                 Output Shape              Param #   \n",
      "=================================================================\n",
      "text_vectorization (TextVect (None, 250)               0         \n",
      "_________________________________________________________________\n",
      "embedding (Embedding)        (None, 250, 500)          5000000   \n",
      "_________________________________________________________________\n",
      "module_wrapper_15 (ModuleWra (None, 250, 40)           60040     \n",
      "_________________________________________________________________\n",
      "dropout_8 (Dropout)          (None, 250, 40)           0         \n",
      "_________________________________________________________________\n",
      "module_wrapper_16 (ModuleWra (None, 10000)             0         \n",
      "_________________________________________________________________\n",
      "dense_12 (Dense)             (None, 20)                200020    \n",
      "_________________________________________________________________\n",
      "dense_13 (Dense)             (None, 1)                 21        \n",
      "=================================================================\n",
      "Total params: 5,260,081\n",
      "Trainable params: 5,260,081\n",
      "Non-trainable params: 0\n",
      "_________________________________________________________________\n"
     ]
    }
   ],
   "source": [
    "SentimentModel.summary()"
   ]
  },
  {
   "cell_type": "code",
   "execution_count": 32,
   "id": "UsGI1PBctEsD",
   "metadata": {
    "colab": {
     "base_uri": "https://localhost:8080/"
    },
    "id": "UsGI1PBctEsD",
    "outputId": "994f7ffc-de76-490e-e2cd-665c06404292"
   },
   "outputs": [
    {
     "name": "stdout",
     "output_type": "stream",
     "text": [
      "Epoch 1/2\n",
      "84/84 [==============================] - 145s 2s/step - loss: 0.5251 - accuracy: 0.7093 - val_loss: 0.3234 - val_accuracy: 0.8616\n",
      "Epoch 2/2\n",
      "84/84 [==============================] - 139s 2s/step - loss: 0.2260 - accuracy: 0.9104 - val_loss: 0.3367 - val_accuracy: 0.8686\n"
     ]
    },
    {
     "data": {
      "text/plain": [
       "<tensorflow.python.keras.callbacks.History at 0x7f8483298ad0>"
      ]
     },
     "execution_count": 32,
     "metadata": {
      "tags": []
     },
     "output_type": "execute_result"
    }
   ],
   "source": [
    "SentimentModel.fit(\n",
    "    trainSet,\n",
    "    validation_data=testSet,\n",
    "    epochs=2)"
   ]
  },
  {
   "cell_type": "code",
   "execution_count": 33,
   "id": "SkyCSloJDpZd",
   "metadata": {
    "colab": {
     "base_uri": "https://localhost:8080/"
    },
    "id": "SkyCSloJDpZd",
    "outputId": "c9626802-dfb0-48f7-d5d0-d5497991249d"
   },
   "outputs": [
    {
     "name": "stdout",
     "output_type": "stream",
     "text": [
      "Accuracy on Validation set: 86.86%\n"
     ]
    }
   ],
   "source": [
    "scores = SentimentModel.evaluate(testSet, verbose=0)\n",
    "print(\"Accuracy on Validation set: %.2f%%\" % (scores[1]*100))"
   ]
  },
  {
   "cell_type": "code",
   "execution_count": null,
   "id": "GPGNfbFKZUO1",
   "metadata": {
    "colab": {
     "base_uri": "https://localhost:8080/"
    },
    "id": "GPGNfbFKZUO1",
    "outputId": "e546c7b9-0fab-4b4a-8df6-aa2d10ef5672"
   },
   "outputs": [
    {
     "name": "stdout",
     "output_type": "stream",
     "text": [
      "Model: \"sequential_8\"\n",
      "_________________________________________________________________\n",
      "Layer (type)                 Output Shape              Param #   \n",
      "=================================================================\n",
      "text_vectorization (TextVect (None, 250)               0         \n",
      "_________________________________________________________________\n",
      "embedding (Embedding)        (None, 250, 500)          5000000   \n",
      "_________________________________________________________________\n",
      "module_wrapper_8 (ModuleWrap (None, 250, 40)           60040     \n",
      "_________________________________________________________________\n",
      "dropout_6 (Dropout)          (None, 250, 40)           0         \n",
      "_________________________________________________________________\n",
      "module_wrapper_9 (ModuleWrap (None, 10000)             0         \n",
      "_________________________________________________________________\n",
      "dense_17 (Dense)             (None, 20)                200020    \n",
      "_________________________________________________________________\n",
      "dense_18 (Dense)             (None, 1)                 21        \n",
      "=================================================================\n",
      "Total params: 5,260,081\n",
      "Trainable params: 5,260,081\n",
      "Non-trainable params: 0\n",
      "_________________________________________________________________\n"
     ]
    }
   ],
   "source": [
    "SentimentModel.summary()"
   ]
  },
  {
   "cell_type": "markdown",
   "id": "5Te3i4k1HFY0",
   "metadata": {
    "id": "5Te3i4k1HFY0"
   },
   "source": [
    "### Case Study 3: LSTM-Dense layer architecture"
   ]
  },
  {
   "cell_type": "code",
   "execution_count": 38,
   "id": "QRxg5WHai9oR",
   "metadata": {
    "id": "QRxg5WHai9oR"
   },
   "outputs": [],
   "source": [
    "SentimentModel = Sequential([\n",
    "  wordVectorizePredicates,\n",
    "  Embedding(vocabularies, embeddingDimension, name=\"embedding\"),\n",
    "  Bidirectional(LSTM(40, return_sequences = True)),\n",
    "  Dropout(0.2),\n",
    "  AveragePooling1D(),\n",
    "  Dense(20, activation=\"relu\"),\n",
    "  Dense(1, activation='sigmoid')\n",
    "])"
   ]
  },
  {
   "cell_type": "code",
   "execution_count": 39,
   "id": "XVWjN5VQJ6qj",
   "metadata": {
    "id": "XVWjN5VQJ6qj"
   },
   "outputs": [],
   "source": [
    "SentimentModel.compile(optimizer='adam',\n",
    "              loss=BinaryCrossentropy(from_logits=False),\n",
    "              metrics=['accuracy'])"
   ]
  },
  {
   "cell_type": "code",
   "execution_count": 40,
   "id": "TrQhLtlMKAsf",
   "metadata": {
    "colab": {
     "base_uri": "https://localhost:8080/"
    },
    "id": "TrQhLtlMKAsf",
    "outputId": "46cd3eb2-d640-452f-91ca-e4a218625875"
   },
   "outputs": [
    {
     "name": "stdout",
     "output_type": "stream",
     "text": [
      "Epoch 1/3\n",
      "84/84 [==============================] - 352s 4s/step - loss: 0.5288 - accuracy: 0.7203 - val_loss: 0.4036 - val_accuracy: 0.8372\n",
      "Epoch 2/3\n",
      "84/84 [==============================] - 341s 4s/step - loss: 0.4373 - accuracy: 0.7747 - val_loss: 0.4719 - val_accuracy: 0.7646\n",
      "Epoch 3/3\n",
      "84/84 [==============================] - 351s 4s/step - loss: 0.3065 - accuracy: 0.8714 - val_loss: 0.4104 - val_accuracy: 0.8492\n"
     ]
    },
    {
     "data": {
      "text/plain": [
       "<tensorflow.python.keras.callbacks.History at 0x7f847e61d310>"
      ]
     },
     "execution_count": 40,
     "metadata": {
      "tags": []
     },
     "output_type": "execute_result"
    }
   ],
   "source": [
    "SentimentModel.fit(\n",
    "    trainSet,\n",
    "    validation_data=testSet,\n",
    "    epochs=3)"
   ]
  },
  {
   "cell_type": "code",
   "execution_count": null,
   "id": "QVFzwWbCVy20",
   "metadata": {
    "colab": {
     "base_uri": "https://localhost:8080/"
    },
    "id": "QVFzwWbCVy20",
    "outputId": "79e11e6a-f2ae-445f-a630-77868f235916"
   },
   "outputs": [
    {
     "name": "stdout",
     "output_type": "stream",
     "text": [
      "Accuracy: 85.78%\n"
     ]
    }
   ],
   "source": [
    "scores = SentimentModel.evaluate(testSet, verbose=0)\n",
    "print(\"Accuracy on Validation set: %.2f%%\" % (scores[1]*100))"
   ]
  },
  {
   "cell_type": "code",
   "execution_count": null,
   "id": "XihMsmLSR4-n",
   "metadata": {
    "colab": {
     "base_uri": "https://localhost:8080/"
    },
    "id": "XihMsmLSR4-n",
    "outputId": "47b28a91-ff97-4f46-dbe0-e68330339cc9"
   },
   "outputs": [
    {
     "name": "stdout",
     "output_type": "stream",
     "text": [
      "Model: \"sequential_2\"\n",
      "_________________________________________________________________\n",
      "Layer (type)                 Output Shape              Param #   \n",
      "=================================================================\n",
      "text_vectorization_1 (TextVe (None, 250)               0         \n",
      "_________________________________________________________________\n",
      "embedding (Embedding)        (None, 250, 500)          5000000   \n",
      "_________________________________________________________________\n",
      "bidirectional (Bidirectional (None, 250, 64)           136448    \n",
      "_________________________________________________________________\n",
      "global_average_pooling1d (Gl (None, 64)                0         \n",
      "_________________________________________________________________\n",
      "dense_5 (Dense)              (None, 20)                1300      \n",
      "_________________________________________________________________\n",
      "dense_6 (Dense)              (None, 1)                 21        \n",
      "=================================================================\n",
      "Total params: 5,137,769\n",
      "Trainable params: 5,137,769\n",
      "Non-trainable params: 0\n",
      "_________________________________________________________________\n"
     ]
    }
   ],
   "source": [
    "SentimentModel.summary()"
   ]
  }
 ],
 "metadata": {
  "accelerator": "TPU",
  "colab": {
   "collapsed_sections": [],
   "name": "IMDBRating-sentiment-analysis.ipynb",
   "provenance": []
  },
  "kernelspec": {
   "display_name": "Python 3",
   "language": "python",
   "name": "python3"
  },
  "language_info": {
   "codemirror_mode": {
    "name": "ipython",
    "version": 3
   },
   "file_extension": ".py",
   "mimetype": "text/x-python",
   "name": "python",
   "nbconvert_exporter": "python",
   "pygments_lexer": "ipython3",
   "version": "3.8.10"
  }
 },
 "nbformat": 4,
 "nbformat_minor": 5
}
